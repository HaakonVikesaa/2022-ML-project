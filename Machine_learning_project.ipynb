{
  "nbformat": 4,
  "nbformat_minor": 0,
  "metadata": {
    "colab": {
      "provenance": [],
      "authorship_tag": "ABX9TyNVcZpDatSFv1bJk4Krffyx",
      "include_colab_link": true
    },
    "kernelspec": {
      "name": "python3",
      "display_name": "Python 3"
    },
    "language_info": {
      "name": "python"
    }
  },
  "cells": [
    {
      "cell_type": "markdown",
      "metadata": {
        "id": "view-in-github",
        "colab_type": "text"
      },
      "source": [
        "<a href=\"https://colab.research.google.com/github/HaakonVikesaa/2022-ML-project/blob/main/Machine_learning_project.ipynb\" target=\"_parent\"><img src=\"https://colab.research.google.com/assets/colab-badge.svg\" alt=\"Open In Colab\"/></a>"
      ]
    },
    {
      "cell_type": "code",
      "execution_count": 43,
      "metadata": {
        "id": "YEG4HvERUq7c"
      },
      "outputs": [],
      "source": [
        "import pandas as pd\n",
        "import numpy as np\n",
        "from sklearn.preprocessing import OneHotEncoder\n",
        "from sklearn.model_selection import train_test_split\n",
        "import matplotlib.pyplot as plt\n",
        "from sklearn.ensemble import RandomForestClassifier\n",
        "from sklearn.metrics import accuracy_score \n",
        "from sklearn.metrics import confusion_matrix, ConfusionMatrixDisplay\n",
        "from sklearn.model_selection import cross_val_score\n",
        "from sklearn.experimental import enable_halving_search_cv\n",
        "from sklearn.model_selection import HalvingGridSearchCV\n",
        "from sklearn import svm\n",
        "import cv2\n",
        "import time\n",
        "from PIL import Image\n",
        "from sklearn.linear_model import LogisticRegression"
      ]
    },
    {
      "cell_type": "code",
      "source": [
        "#%%\n",
        "df = pd.read_csv('Landslides.csv')\n",
        "\n",
        "#X_train,X_test,y_train,y_test = train_test_split(X, y, test_size=0.2, random_state=42)\n",
        "#Feature importance, comparrison of random forrest and SVM \n",
        "\n",
        "listofindex = ['dist_roads','DEM','TWI','plan_curvature','profil_curvature','Slope',\n",
        "               'carbonates','glacial deposits','detrital rocks','alluvial deposits','marly-limestone','slope deposits','metamorphic rocks','evaporitic rocks','artificial materials',\n",
        "               'forest','herbaceous vegetation','shrub vegetation','impermeable man-made','no vegetation','permeable man-made','glacier  water body']\n",
        "\n",
        "\n",
        "\n",
        "enc = OneHotEncoder(sparse=False) #Activates the OneHotEncoder\n",
        "\n",
        "\n",
        "geology_onehot = enc.fit_transform(df[['Geology']]) #Fits and transforms the dataframe coloum into multiple columns of 0 and 1\n",
        "Landcover_onehot = enc.fit_transform(df[['LandCover']]) #Fits and transforms the dataframe coloum into multiple columns of 0 and 1\n",
        "\n",
        "\n",
        "geology_tranform = pd.DataFrame(geology_onehot) #transfor the array into a DataFrame\n",
        "Landcover_tranform = pd.DataFrame(Landcover_onehot) #transfor the array into a DataFrame\n",
        "\n",
        "\n",
        "geology_tranform= geology_tranform.add_prefix('g_') #Changes the prefix of the coloum into the specified one\n",
        "Landcover_tranform= Landcover_tranform.add_prefix('lc_') #Changes the prefix of the coloum into the specified one\n",
        "\n",
        "\n",
        " #Removes the geology and Landcover coloums from the inputs dataframe since they are added as multiple colus of 0 and 1\n",
        "inputs_df = pd.DataFrame(df.drop(['Geology','LandCover','LS'],axis = 1)) #Defines the inputs_df as df and  a DataFrame and Removes the geology and Landcover coloums from the inputs dataframe since they are added as multiple colus of 0 and 1\n",
        "\n",
        "inputs_df = inputs_df.join(geology_tranform) #Adds the geology 0 and 1 colouns to the inputs_df\n",
        "inputs_df = inputs_df.join(Landcover_tranform) #Adds the geology 0 and 1 colouns to the inputs_df"
      ],
      "metadata": {
        "id": "ofQFFvNdUt4z"
      },
      "execution_count": 44,
      "outputs": []
    },
    {
      "cell_type": "code",
      "source": [
        "#%% Splitting\n",
        "landslideindex = [] #Creates a enpty list that is going to be used for storing the indexes for the rows that contain a landslide\n",
        "#landslideindex = pd.DataFrame(np.array(landslideindex))\n",
        "for index,value in enumerate(df['LS']): #A for loop that checks very row and adds the index of the ros that contain a landslide into a list\n",
        "    if value == 1:\n",
        "        landslideindex.append(index)\n",
        "        \n",
        "outputs = np.zeros_like(df['LS']) #Creates a list of zeroes as long as LS coloum of df\n",
        "for i in landslideindex: #A for loop that changes all the zeroes at the indexes that has a landslide into a 1\n",
        "    outputs[i] = 1 #Makes the same a df['LS']\n",
        "\n",
        "all_indices = np.arange(0,len(outputs),1) # Creates a array counting from 0 to len(outputs) with step 1\n",
        "if not type(inputs_df) == 'numpy.ndarray':\n",
        "  inputs_df = inputs_df.to_numpy() #Changes the inputs_df to a numpy array\n",
        "\n",
        "indx_train, indx_test = train_test_split(all_indices,test_size=0.15,random_state=1)\n",
        "indx_train, indx_val = train_test_split(indx_train,test_size=0.15,random_state=1)\n",
        "\n",
        "#Splitting the data\n",
        "X_train,y_train = inputs_df[indx_train],outputs[indx_train]\n",
        "X_val,y_val = inputs_df[indx_val],outputs[indx_val]\n",
        "X_test,y_test = inputs_df[indx_test],outputs[indx_test]\n",
        "\n",
        "X_train = pd.DataFrame(X_train)\n",
        "X_val = pd.DataFrame(X_val)\n",
        "X_test = pd.DataFrame(X_test)"
      ],
      "metadata": {
        "id": "l_czW_vBUyJ_"
      },
      "execution_count": 45,
      "outputs": []
    },
    {
      "cell_type": "code",
      "source": [
        "#Random forrest classifier\n",
        "rfc = RandomForestClassifier()\n",
        "\n",
        "rfc.fit(X_train,y_train)\n",
        "\n",
        "rfc_predict = rfc.predict(X_test)\n",
        "\n",
        "rfc_accuracy = accuracy_score(y_test, rfc_predict)\n",
        "\n",
        "print('The accuracy of basic RandomForestClassifier:',\"%.3f\" %rfc_accuracy)"
      ],
      "metadata": {
        "colab": {
          "base_uri": "https://localhost:8080/"
        },
        "id": "T3-E_RK7U3O-",
        "outputId": "c3f0768b-c3d5-458e-ffc0-ed5728ac8531"
      },
      "execution_count": 46,
      "outputs": [
        {
          "output_type": "stream",
          "name": "stdout",
          "text": [
            "The accuracy of basic RandomForestClassifier: 0.846\n"
          ]
        }
      ]
    },
    {
      "cell_type": "code",
      "source": [
        "cm = confusion_matrix(y_test, rfc_predict, normalize='pred') # Get a confusion matrix 'cm', use 'pred' for the normalize option\n",
        "disp = ConfusionMatrixDisplay(confusion_matrix = cm) # Use ConfusionMatrixDisplay to visualize 'cm'\n",
        "disp.plot()\n",
        "\n",
        "    \n",
        "\n",
        "importances = rfc.feature_importances_\n",
        "std = np.std([tree.feature_importances_ for tree in rfc.estimators_], axis=0)\n",
        "\n",
        "x_axis = np.arange(1,len(importances)+1)\n",
        "forest_importances = pd.Series(importances,index = listofindex)\n",
        "\n"
      ],
      "metadata": {
        "colab": {
          "base_uri": "https://localhost:8080/",
          "height": 279
        },
        "id": "6f_nQk_7U5aT",
        "outputId": "9b9ef908-972d-4194-d629-a92f3f9e5083"
      },
      "execution_count": 47,
      "outputs": [
        {
          "output_type": "display_data",
          "data": {
            "text/plain": [
              "<Figure size 432x288 with 2 Axes>"
            ],
            "image/png": "[encoded data removed]"
          },
          "metadata": {
            "needs_background": "light"
          }
        }
      ]
    },
    {
      "cell_type": "code",
      "source": [
        "print(forest_importances)\n",
        "print(type(forest_importances))"
      ],
      "metadata": {
        "colab": {
          "base_uri": "https://localhost:8080/"
        },
        "id": "Yoj5JWTKJHfJ",
        "outputId": "1836ed55-e473-4893-c2da-d41dde61c3d9"
      },
      "execution_count": 48,
      "outputs": [
        {
          "output_type": "stream",
          "name": "stdout",
          "text": [
            "dist_roads               0.162702\n",
            "DEM                      0.116955\n",
            "TWI                      0.117155\n",
            "plan_curvature           0.103541\n",
            "profil_curvature         0.124816\n",
            "Slope                    0.251346\n",
            "carbonates               0.011443\n",
            "glacial deposits         0.021192\n",
            "detrital rocks           0.005779\n",
            "alluvial deposits        0.005512\n",
            "marly-limestone          0.001499\n",
            "slope deposits           0.005791\n",
            "metamorphic rocks        0.016059\n",
            "evaporitic rocks         0.000576\n",
            "artificial materials     0.002257\n",
            "forest                   0.010411\n",
            "herbaceous vegetation    0.005627\n",
            "shrub vegetation         0.016612\n",
            "impermeable man-made     0.004320\n",
            "no vegetation            0.011858\n",
            "permeable man-made       0.003753\n",
            "glacier  water body      0.000795\n",
            "dtype: float64\n",
            "<class 'pandas.core.series.Series'>\n"
          ]
        }
      ]
    },
    {
      "cell_type": "code",
      "source": [
        "feature_importances_rf = pd.DataFrame({'Feature'     : listofindex,\n",
        "        'Index Title'  : importances})\n",
        " \n",
        "fig, ax = plt.subplots()\n",
        "forest_importances.sort_values('index', ascending=False).plot.barh(yerr=std, ax=ax)\n",
        "#bars = ax.bar(feature_importances_rf, importances, align='center')\n",
        "#ax.set_xticks(importances, labels=listofindex)\n",
        "ax.grid()\n",
        "ax.plot()\n",
        "ax.set_title(\"Feature importances using MDI\")\n",
        "ax.set_xlabel(\"Mean decrease in impurity\")\n",
        "fig.tight_layout()\n",
        "\n",
        "# Just geology and landcover\n",
        "fig, ax = plt.subplots()\n",
        "forest_importances[6:].plot.barh(yerr=std[6:], ax=ax)\n",
        "plt.xticks(np.arange(0, max(forest_importances[6:])+0.1, 0.005))\n",
        "ax.plot()\n",
        "ax.grid()\n",
        "ax.set_title(\"Feature importances using MDI\")\n",
        "ax.set_xlabel(\"Mean decrease in impurity\")\n",
        "fig.tight_layout()"
      ],
      "metadata": {
        "colab": {
          "base_uri": "https://localhost:8080/",
          "height": 633
        },
        "id": "WTUIUo3uU6aX",
        "outputId": "f4a17470-9739-4151-acf9-d197485f4b2a"
      },
      "execution_count": 49,
      "outputs": [
        {
          "output_type": "stream",
          "name": "stderr",
          "text": [
            "<ipython-input-49-f8c2b9da9e89>:5: FutureWarning: In a future version of pandas all arguments of Series.sort_values will be keyword-only\n",
            "  forest_importances.sort_values('index', ascending=False).plot.barh(yerr=std, ax=ax)\n"
          ]
        },
        {
          "output_type": "display_data",
          "data": {
            "text/plain": [
              "<Figure size 432x288 with 1 Axes>"
            ],
            "image/png": "[encoded data removed]"
          },
          "metadata": {
            "needs_background": "light"
          }
        },
        {
          "output_type": "display_data",
          "data": {
            "text/plain": [
              "<Figure size 432x288 with 1 Axes>"
            ],
            "image/png": "[encoded data removed]"
          },
          "metadata": {
            "needs_background": "light"
          }
        }
      ]
    },
    {
      "cell_type": "code",
      "source": [
        "rfcopt = RandomForestClassifier()\n",
        "n_estimators = []\n",
        "for i in np.arange(100,501,50):\n",
        "  n_estimators.append(int(i))\n",
        "param_grid = {'n_estimators': n_estimators,\n",
        "              'max_features': [2,3,4,5]}\n",
        "clf = HalvingGridSearchCV(rfcopt,param_grid,\n",
        "                              max_resources=2000,\n",
        "                              random_state=1)\n",
        "clf.fit(X_train, y_train)\n",
        "best_grid = clf.best_params_\n",
        "print('best parameters:',best_grid)\n"
      ],
      "metadata": {
        "colab": {
          "base_uri": "https://localhost:8080/"
        },
        "id": "YvB_n65hU-79",
        "outputId": "6a9025bf-d052-498b-8b33-2f88940681fb"
      },
      "execution_count": 50,
      "outputs": [
        {
          "output_type": "stream",
          "name": "stdout",
          "text": [
            "best parameters: {'max_features': 3, 'n_estimators': 150}\n"
          ]
        }
      ]
    },
    {
      "cell_type": "code",
      "source": [
        "rfcopt=RandomForestClassifier(max_features= 5, n_estimators= 450)\n",
        "rfcopt.fit(X_train,y_train)\n",
        "rfcopt_predict = rfcopt.predict(X_test)\n",
        "rfcopt_accuracy = accuracy_score(y_test, rfcopt_predict)\n",
        "\n",
        "print('The accuracy of improved RandomForestClassifier:',\"%.3f\" %rfcopt_accuracy)\n",
        "print('The accuracy of basic RandomForestClassifier:',\"%.3f\" %rfc_accuracy)"
      ],
      "metadata": {
        "colab": {
          "base_uri": "https://localhost:8080/"
        },
        "id": "Ov75iWpyVAwG",
        "outputId": "86863c87-0d10-49da-b798-a83209be97fe"
      },
      "execution_count": 51,
      "outputs": [
        {
          "output_type": "stream",
          "name": "stdout",
          "text": [
            "The accuracy of improved RandomForestClassifier: 0.839\n",
            "The accuracy of basic RandomForestClassifier: 0.846\n"
          ]
        }
      ]
    },
    {
      "cell_type": "code",
      "source": [
        "cm = confusion_matrix(y_test, rfcopt_predict, normalize='pred') # Get a confusion matrix 'cm', use 'pred' for the normalize option\n",
        "disp = ConfusionMatrixDisplay(confusion_matrix = cm) # Use ConfusionMatrixDisplay to visualize 'cm'\n",
        "disp.plot()"
      ],
      "metadata": {
        "colab": {
          "base_uri": "https://localhost:8080/",
          "height": 297
        },
        "id": "zfHilfXCH61L",
        "outputId": "ecdc793b-8899-4f3b-9d44-516da31f0c4d"
      },
      "execution_count": 42,
      "outputs": [
        {
          "output_type": "execute_result",
          "data": {
            "text/plain": [
              "<sklearn.metrics._plot.confusion_matrix.ConfusionMatrixDisplay at 0x7f7051ce36a0>"
            ]
          },
          "metadata": {},
          "execution_count": 42
        },
        {
          "output_type": "display_data",
          "data": {
            "text/plain": [
              "<Figure size 432x288 with 2 Axes>"
            ],
            "image/png": "[encoded data removed]"
          },
          "metadata": {
            "needs_background": "light"
          }
        }
      ]
    },
    {
      "cell_type": "markdown",
      "source": [],
      "metadata": {
        "id": "KIHR3cP5H6bQ"
      }
    },
    {
      "cell_type": "code",
      "source": [
        "logreg = LogisticRegression(max_iter=2000,random_state=1)\n",
        "logreg.fit(X_train,y_train)\n",
        "logreg_predict = logreg.predict(X_test)\n",
        "logleg_accuracy = accuracy_score(y_test, logreg_predict)\n",
        "\n",
        "print('The The accuracy of basic Logistic regression:', \"%.3f\" %logleg_accuracy)\n",
        "\n",
        "cm = confusion_matrix(y_test, logreg_predict, normalize='pred') # Get a confusion matrix 'cm', use 'pred' for the normalize option\n",
        "disp = ConfusionMatrixDisplay(confusion_matrix = cm) # Use ConfusionMatrixDisplay to visualize 'cm'\n",
        "disp.plot()"
      ],
      "metadata": {
        "colab": {
          "base_uri": "https://localhost:8080/",
          "height": 315
        },
        "id": "GdZmELL_VCkh",
        "outputId": "0aa00a64-de2a-4e7e-ec1e-29eeb3ea9bed"
      },
      "execution_count": 52,
      "outputs": [
        {
          "output_type": "stream",
          "name": "stdout",
          "text": [
            "The The accuracy of basic Logistic regression: 0.803\n"
          ]
        },
        {
          "output_type": "execute_result",
          "data": {
            "text/plain": [
              "<sklearn.metrics._plot.confusion_matrix.ConfusionMatrixDisplay at 0x7f7077301dc0>"
            ]
          },
          "metadata": {},
          "execution_count": 52
        },
        {
          "output_type": "display_data",
          "data": {
            "text/plain": [
              "<Figure size 432x288 with 2 Axes>"
            ],
            "image/png": "[encoded data removed]"
          },
          "metadata": {
            "needs_background": "light"
          }
        }
      ]
    },
    {
      "cell_type": "code",
      "source": [
        "param_grid = [\n",
        "  {'solver': ['newton-cg', 'lbfgs', 'liblinear'], \n",
        "   'penalty': ['l2'],\n",
        "  'C': [100, 10, 1.0, 0.1, 0.01],\n",
        "  'max_iter':[2000,5000,10000,20000],}]\n",
        "clf = HalvingGridSearchCV(logreg, param_grid,\n",
        "                          max_resources=2000,\n",
        "                          random_state=1)\n",
        "clf.fit(X_train, y_train)\n",
        "best_grid = clf.best_params_\n",
        "print('best parameters:',best_grid)\n",
        "#best parameters: {'C': 0.5, 'max_iter': 10000, 'penalty': 'none', 'solver': 'sag'}"
      ],
      "metadata": {
        "colab": {
          "base_uri": "https://localhost:8080/"
        },
        "id": "oXDzfpvSVEuy",
        "outputId": "73b7497c-a419-443f-d683-395f51b20f99"
      },
      "execution_count": 53,
      "outputs": [
        {
          "output_type": "stream",
          "name": "stderr",
          "text": [
            "/usr/local/lib/python3.8/dist-packages/scipy/optimize/linesearch.py:478: LineSearchWarning: The line search algorithm did not converge\n",
            "  warn('The line search algorithm did not converge', LineSearchWarning)\n",
            "/usr/local/lib/python3.8/dist-packages/scipy/optimize/linesearch.py:327: LineSearchWarning: The line search algorithm did not converge\n",
            "  warn('The line search algorithm did not converge', LineSearchWarning)\n"
          ]
        },
        {
          "output_type": "stream",
          "name": "stdout",
          "text": [
            "best parameters: {'C': 1.0, 'max_iter': 10000, 'penalty': 'l2', 'solver': 'liblinear'}\n"
          ]
        }
      ]
    },
    {
      "cell_type": "code",
      "source": [
        "#%% Optimized logistic regression\n",
        "\n",
        "logregopt = LogisticRegression(max_iter=10000,random_state=1,C=1,solver = 'liblinear',penalty= 'l2')\n",
        "logregopt.fit(X_train,y_train)\n",
        "logregopt_predict = logregopt.predict(X_test)\n",
        "loglegopt_accuracy = accuracy_score(y_test, logregopt_predict)\n",
        "\n",
        "print('The The accuracy of basic Logistic regression:', \"%.3f\" %logleg_accuracy)\n",
        "print('The The accuracy of improved Logistic regression:', \"%.3f\" %loglegopt_accuracy)\n",
        "\n"
      ],
      "metadata": {
        "colab": {
          "base_uri": "https://localhost:8080/"
        },
        "id": "6mKu80uiVGia",
        "outputId": "d9cce35f-b0c3-49d8-c462-4f9dbae74769"
      },
      "execution_count": 54,
      "outputs": [
        {
          "output_type": "stream",
          "name": "stdout",
          "text": [
            "The The accuracy of basic Logistic regression: 0.803\n",
            "The The accuracy of improved Logistic regression: 0.805\n"
          ]
        }
      ]
    },
    {
      "cell_type": "code",
      "source": [
        "DEM = cv2.imread('DEM.tif',-1)\n",
        "distance_road = cv2.imread('dist_roads.tif',-1)\n",
        "geology = cv2.imread('Geology.tif',-1)\n",
        "landcover = cv2.imread('LandCover.tif',-1)\n",
        "plan_curvature = cv2.imread('plan_curvature.tif',-1)\n",
        "profile_curvature = cv2.imread('profil_curvature.tif',-1)\n",
        "slope = cv2.imread('Slope.tif',-1)\n",
        "TWI = cv2.imread('TWI.tif',-1)"
      ],
      "metadata": {
        "id": "Ge-iOIk_VJDn"
      },
      "execution_count": 55,
      "outputs": []
    },
    {
      "cell_type": "code",
      "source": [
        "\n",
        "prediction = np.zeros(DEM.shape)\n",
        "counter = 0\n",
        "for i in range(TWI.shape[0]):\n",
        "    if i%10 ==1:\n",
        "        counter +=1\n",
        "        print(counter)\n",
        "    for j in range(TWI.shape[1]):\n",
        "        if not geology[i][j] == geology[0][0] and not DEM[i][j] == DEM[0][0]:\n",
        "            if not geology[i][j] ==37:\n",
        "                if not landcover[i][j] == 255:\n",
        "                    reusedataframe = pd.DataFrame([])\n",
        "                    pixel = {'dist_roads': [distance_road[i][j]], \n",
        "                                'DEM': [DEM[i][j]], \n",
        "                                'TWI': [TWI[i][j]],\n",
        "                                'plan_curvature': [plan_curvature[i][j]], \n",
        "                                'profil_curvature':[profile_curvature[i][j]], \n",
        "                                'Slope': [slope[i][j]], \n",
        "                                #'Geology': [geology[i][j]],\n",
        "                                #'LandCover': [landcover[i][j]], \n",
        "                                }\n",
        "                    \n",
        "                    reusedataframe = pd.DataFrame(pixel)\n",
        "                    reusedataframe = reusedataframe.to_numpy()\n",
        "                    \n",
        "\n",
        "                    geology_dic = {'1': [2,1,24,9,7,11,31,36,10,geology[i][j]]}    \n",
        "                    geology_df = pd.DataFrame(geology_dic)\n",
        "                    \n",
        "                    landcover_dic = {'1': [41,21,31,11,51,15,62,landcover[i][j]]} \n",
        "                    landcover_df = pd.DataFrame(landcover_dic)\n",
        "            \n",
        "            \n",
        "                  \n",
        "                    geology_onehot = enc.fit_transform(geology_df)\n",
        "                    Landcover_onehot = enc.fit_transform(landcover_df)\n",
        "                    reusedataframe = np.concatenate((reusedataframe, geology_onehot[-1], Landcover_onehot[-1]),axis=None).reshape(1,-1)\n",
        "                    ##reusedataframe = reusedataframe.join(pd.DataFrame(geology_tranform.iloc[-1])) #Adds the geology 0 and 1 colouns to the inputs_df\n",
        "                    ##reusedataframe = reusedataframe.join(pd.DataFrame(Landcover_tranform.iloc[-1]))\n",
        "            \n",
        "                    #reusedataframe.drop(['Geology','LandCover'], axis=1)\n",
        "                    prediction[i][j] = rfc.predict(reusedataframe)"
      ],
      "metadata": {
        "colab": {
          "base_uri": "https://localhost:8080/",
          "height": 240
        },
        "id": "i5q1yvBXVNNQ",
        "outputId": "5866f7fe-9a04-4148-a530-2b311769a393"
      },
      "execution_count": 56,
      "outputs": [
        {
          "output_type": "error",
          "ename": "AttributeError",
          "evalue": "ignored",
          "traceback": [
            "\u001b[0;31m---------------------------------------------------------------------------\u001b[0m",
            "\u001b[0;31mAttributeError\u001b[0m                            Traceback (most recent call last)",
            "\u001b[0;32m<ipython-input-56-4ec19ce8df09>\u001b[0m in \u001b[0;36m<module>\u001b[0;34m\u001b[0m\n\u001b[0;32m----> 1\u001b[0;31m \u001b[0mprediction\u001b[0m \u001b[0;34m=\u001b[0m \u001b[0mnp\u001b[0m\u001b[0;34m.\u001b[0m\u001b[0mzeros\u001b[0m\u001b[0;34m(\u001b[0m\u001b[0mDEM\u001b[0m\u001b[0;34m.\u001b[0m\u001b[0mshape\u001b[0m\u001b[0;34m)\u001b[0m\u001b[0;34m\u001b[0m\u001b[0;34m\u001b[0m\u001b[0m\n\u001b[0m\u001b[1;32m      2\u001b[0m \u001b[0mcounter\u001b[0m \u001b[0;34m=\u001b[0m \u001b[0;36m0\u001b[0m\u001b[0;34m\u001b[0m\u001b[0;34m\u001b[0m\u001b[0m\n\u001b[1;32m      3\u001b[0m \u001b[0;32mfor\u001b[0m \u001b[0mi\u001b[0m \u001b[0;32min\u001b[0m \u001b[0mrange\u001b[0m\u001b[0;34m(\u001b[0m\u001b[0mTWI\u001b[0m\u001b[0;34m.\u001b[0m\u001b[0mshape\u001b[0m\u001b[0;34m[\u001b[0m\u001b[0;36m0\u001b[0m\u001b[0;34m]\u001b[0m\u001b[0;34m)\u001b[0m\u001b[0;34m:\u001b[0m\u001b[0;34m\u001b[0m\u001b[0;34m\u001b[0m\u001b[0m\n\u001b[1;32m      4\u001b[0m     \u001b[0;32mif\u001b[0m \u001b[0mi\u001b[0m\u001b[0;34m%\u001b[0m\u001b[0;36m10\u001b[0m \u001b[0;34m==\u001b[0m\u001b[0;36m1\u001b[0m\u001b[0;34m:\u001b[0m\u001b[0;34m\u001b[0m\u001b[0;34m\u001b[0m\u001b[0m\n\u001b[1;32m      5\u001b[0m         \u001b[0mcounter\u001b[0m \u001b[0;34m+=\u001b[0m\u001b[0;36m1\u001b[0m\u001b[0;34m\u001b[0m\u001b[0;34m\u001b[0m\u001b[0m\n",
            "\u001b[0;31mAttributeError\u001b[0m: 'NoneType' object has no attribute 'shape'"
          ]
        }
      ]
    },
    {
      "cell_type": "code",
      "source": [
        "fig = plt.imshow(prediction)\n",
        "fig.set_cmap('hot')\n",
        "fig.axes.get_xaxis().set_visible(False)\n",
        "fig.axes.get_yaxis().set_visible(False)"
      ],
      "metadata": {
        "id": "VqoKXBkRdQrT"
      },
      "execution_count": null,
      "outputs": []
    }
  ]
}